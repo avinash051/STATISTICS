{
 "cells": [
  {
   "cell_type": "code",
   "execution_count": 1,
   "id": "aa578da2",
   "metadata": {},
   "outputs": [],
   "source": [
    "#outliers"
   ]
  },
  {
   "cell_type": "code",
   "execution_count": 11,
   "id": "39bd4ff0",
   "metadata": {},
   "outputs": [],
   "source": [
    "import numpy as np\n",
    "import matplotlib.pyplot as plt\n",
    "%matplotlib inline \n"
   ]
  },
  {
   "cell_type": "code",
   "execution_count": 12,
   "id": "00deaa1e",
   "metadata": {},
   "outputs": [],
   "source": [
    "## Define our dataset\n",
    "dataset = [11,10,12,14,12,15,14,13,15,102,12,14,17,19,107,10,13,12,14,12,108,12,11,14,13,15,10,15,12,10,14,13,15,10]"
   ]
  },
  {
   "cell_type": "code",
   "execution_count": 15,
   "id": "84c034ad",
   "metadata": {},
   "outputs": [],
   "source": [
    "## z-score computaion \n",
    "\n",
    "outliers = []\n",
    "\n",
    "def detect_outliers(data):\n",
    "    threshold = 3  ## 3 std deviation\n",
    "    mean = np.mean(data)\n",
    "    std = np.std(data)\n",
    "    \n",
    "    for i in data:\n",
    "        z_score= (i-mean)/std\n",
    "        if np.abs(z_score)> threshold:\n",
    "            outliers.append(i)\n",
    "            \n",
    "    return outliers      "
   ]
  },
  {
   "cell_type": "code",
   "execution_count": 16,
   "id": "cdbc7fa1",
   "metadata": {},
   "outputs": [
    {
     "data": {
      "text/plain": [
       "[102, 107, 108]"
      ]
     },
     "execution_count": 16,
     "metadata": {},
     "output_type": "execute_result"
    }
   ],
   "source": [
    "detect_outliers(dataset)"
   ]
  },
  {
   "cell_type": "raw",
   "id": "885f7f9c",
   "metadata": {},
   "source": [
    "#IQR\n",
    "\n",
    "1. sort the data\n",
    "2. calculate q1 and q3\n",
    "3. IQR (q3-q1)\n",
    "4. find the lowe fence(q1-1.5(IQR))\n",
    "5. find the upper fence(q3+1.5(IQR))\n"
   ]
  },
  {
   "cell_type": "code",
   "execution_count": 17,
   "id": "dcda0742",
   "metadata": {},
   "outputs": [],
   "source": [
    "dataset= sorted(dataset)"
   ]
  },
  {
   "cell_type": "code",
   "execution_count": 18,
   "id": "5340720f",
   "metadata": {},
   "outputs": [
    {
     "data": {
      "text/plain": [
       "[10,\n",
       " 10,\n",
       " 10,\n",
       " 10,\n",
       " 10,\n",
       " 11,\n",
       " 11,\n",
       " 12,\n",
       " 12,\n",
       " 12,\n",
       " 12,\n",
       " 12,\n",
       " 12,\n",
       " 12,\n",
       " 13,\n",
       " 13,\n",
       " 13,\n",
       " 13,\n",
       " 14,\n",
       " 14,\n",
       " 14,\n",
       " 14,\n",
       " 14,\n",
       " 14,\n",
       " 15,\n",
       " 15,\n",
       " 15,\n",
       " 15,\n",
       " 15,\n",
       " 17,\n",
       " 19,\n",
       " 102,\n",
       " 107,\n",
       " 108]"
      ]
     },
     "execution_count": 18,
     "metadata": {},
     "output_type": "execute_result"
    }
   ],
   "source": [
    "dataset"
   ]
  },
  {
   "cell_type": "code",
   "execution_count": 19,
   "id": "b314f742",
   "metadata": {},
   "outputs": [],
   "source": [
    "q1, q3 = np.percentile(dataset,[25,75])"
   ]
  },
  {
   "cell_type": "code",
   "execution_count": 20,
   "id": "8b29f5e5",
   "metadata": {},
   "outputs": [
    {
     "name": "stdout",
     "output_type": "stream",
     "text": [
      "12.0 15.0\n"
     ]
    }
   ],
   "source": [
    "print(q1, q3)"
   ]
  },
  {
   "cell_type": "code",
   "execution_count": 21,
   "id": "f20e3bcb",
   "metadata": {},
   "outputs": [
    {
     "name": "stdout",
     "output_type": "stream",
     "text": [
      "3.0\n"
     ]
    }
   ],
   "source": [
    " iqr = q3-q1\n",
    " print(iqr)   "
   ]
  },
  {
   "cell_type": "code",
   "execution_count": 22,
   "id": "a8d2f97c",
   "metadata": {},
   "outputs": [],
   "source": [
    "lower_fence = q1-(1.5*iqr)"
   ]
  },
  {
   "cell_type": "code",
   "execution_count": 23,
   "id": "2e826368",
   "metadata": {},
   "outputs": [],
   "source": [
    "higher_fence = q3+(1.5*iqr)"
   ]
  },
  {
   "cell_type": "code",
   "execution_count": 24,
   "id": "0b4b8a33",
   "metadata": {},
   "outputs": [
    {
     "name": "stdout",
     "output_type": "stream",
     "text": [
      "7.5 19.5\n"
     ]
    }
   ],
   "source": [
    "print(lower_fence, higher_fence)"
   ]
  },
  {
   "cell_type": "code",
   "execution_count": 25,
   "id": "60f01af6",
   "metadata": {},
   "outputs": [],
   "source": [
    "import seaborn as sns"
   ]
  },
  {
   "cell_type": "code",
   "execution_count": 26,
   "id": "efdf5519",
   "metadata": {},
   "outputs": [
    {
     "name": "stderr",
     "output_type": "stream",
     "text": [
      "/Users/avinashkumar/opt/anaconda3/lib/python3.9/site-packages/seaborn/_decorators.py:36: FutureWarning: Pass the following variable as a keyword arg: x. From version 0.12, the only valid positional argument will be `data`, and passing other arguments without an explicit keyword will result in an error or misinterpretation.\n",
      "  warnings.warn(\n"
     ]
    },
    {
     "data": {
      "text/plain": [
       "<AxesSubplot:>"
      ]
     },
     "execution_count": 26,
     "metadata": {},
     "output_type": "execute_result"
    },
    {
     "data": {
      "image/png": "[encoded data removed]",
      "text/plain": [
       "<Figure size 432x288 with 1 Axes>"
      ]
     },
     "metadata": {
      "needs_background": "light"
     },
     "output_type": "display_data"
    }
   ],
   "source": [
    "sns.boxplot(dataset)"
   ]
  },
  {
   "cell_type": "code",
   "execution_count": null,
   "id": "4f09d746",
   "metadata": {},
   "outputs": [],
   "source": []
  }
 ],
 "metadata": {
  "kernelspec": {
   "display_name": "Python 3 (ipykernel)",
   "language": "python",
   "name": "python3"
  },
  "language_info": {
   "codemirror_mode": {
    "name": "ipython",
    "version": 3
   },
   "file_extension": ".py",
   "mimetype": "text/x-python",
   "name": "python",
   "nbconvert_exporter": "python",
   "pygments_lexer": "ipython3",
   "version": "3.9.12"
  }
 },
 "nbformat": 4,
 "nbformat_minor": 5
}
